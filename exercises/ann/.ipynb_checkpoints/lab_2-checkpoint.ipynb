{
 "cells": [
  {
   "cell_type": "code",
   "execution_count": 4,
   "metadata": {
    "collapsed": true
   },
   "outputs": [],
   "source": [
    "from copy import copy\n",
    "from random import uniform\n",
    "from math import exp"
   ]
  },
  {
   "cell_type": "markdown",
   "metadata": {},
   "source": [
    "## Convention"
   ]
  },
  {
   "cell_type": "code",
   "execution_count": 5,
   "metadata": {
    "collapsed": true
   },
   "outputs": [],
   "source": [
    "# `unit_function` are fixed to be sigmoid.\n",
    "#\n",
    "# Labeling:\n",
    "#   Each unit is labeled by Int * Int, where\n",
    "#   the first is for layer, and the second is\n",
    "#   for the unit on that layer.\n",
    "#\n",
    "# Abbreviation:\n",
    "#   l -> layer, u -> unit on the layer,\n",
    "#   m -> medium layer,\n",
    "#   x -> value on net, w -> weights on net\n",
    "#   t -> target"
   ]
  },
  {
   "cell_type": "markdown",
   "metadata": {},
   "source": [
    "## Data Abstraction"
   ]
  },
  {
   "cell_type": "code",
   "execution_count": 59,
   "metadata": {
    "collapsed": false
   },
   "outputs": [],
   "source": [
    "sigmoid = lambda x: 1 / (1 + exp(-x))\n",
    "scale = [2, 2, 1]\n",
    "ann = {}\n",
    "ann['scale'] = scale\n",
    "\n",
    "# generate initialized weights, as weights[m][u][upstream_u]:\n",
    "ann['w_data'] = []\n",
    "for m in range(len(scale) - 1):\n",
    "    weights_on_m = []\n",
    "    for u in range(scale[m + 1]): # l = m + 1\n",
    "        weights_to_u = [uniform(-0.05, 0.05) for upstream_u in range(scale[m] + 1)]\n",
    "        weights_on_m.append(weights_to_u)\n",
    "    ann['w_data'].append(weights_on_m)"
   ]
  },
  {
   "cell_type": "code",
   "execution_count": 60,
   "metadata": {
    "collapsed": false
   },
   "outputs": [
    {
     "data": {
      "text/plain": [
       "0.002381188453962013"
      ]
     },
     "execution_count": 60,
     "metadata": {},
     "output_type": "execute_result"
    }
   ],
   "source": [
    "def w(to_unit, from_unit):\n",
    "    \"\"\" [Int] * [Int] -> Real\n",
    "    \n",
    "    E.g. for scale = [2, 1], the `w` can take\n",
    "    arguments: [0, 0] (the first layer and the\n",
    "    first unit on this layer), [0, 1], and\n",
    "    [0, 2], the last of which is for the threshold-\n",
    "    weight.\n",
    "    \"\"\"\n",
    "    if to_unit[0] != from_unit[0] + 1:\n",
    "        return \"Error: there's no such net!\"\n",
    "    else:\n",
    "        return ann['w_data'][from_unit[0]][to_unit[1]][from_unit[1]]\n",
    "\n",
    "ann['w'] = w\n",
    "w([1,0], [0,2])"
   ]
  },
  {
   "cell_type": "code",
   "execution_count": 69,
   "metadata": {
    "collapsed": false
   },
   "outputs": [
    {
     "data": {
      "text/plain": [
       "2.1"
      ]
     },
     "execution_count": 69,
     "metadata": {},
     "output_type": "execute_result"
    }
   ],
   "source": [
    "def reassign_w(to_unit, from_unit, new_value):\n",
    "    \"\"\" [Int] * [Int] * Real -> None\n",
    "    Not a function -- modifies ann['w_data'] in outer frame.\n",
    "    \"\"\"\n",
    "    ann['w_data'][from_unit[0]][to_unit[1]][from_unit[1]] = new_value\n",
    "    return None\n",
    "ann['reassign_w'] = reassign_w\n",
    "\n",
    "reassign_w([1,0], [0,0], 2.1)\n",
    "w([1,0], [0,0])"
   ]
  },
  {
   "cell_type": "markdown",
   "metadata": {},
   "source": [
    "### Forward Propagate"
   ]
  },
  {
   "cell_type": "code",
   "execution_count": 61,
   "metadata": {
    "collapsed": true
   },
   "outputs": [],
   "source": [
    "def output_from_unit(inputs, unit):\n",
    "    \"\"\" [Real] * [Int] -> Real\n",
    "    \"\"\"\n",
    "    x = copy(inputs)\n",
    "    x.insert(0, 1)\n",
    "    net = sum([x[i] * w(unit, [unit[0] - 1, i]) for i in range(len(x))])\n",
    "    return sigmoid(net)"
   ]
  },
  {
   "cell_type": "code",
   "execution_count": 52,
   "metadata": {
    "collapsed": false
   },
   "outputs": [],
   "source": [
    "inputs = [1, 2]\n",
    "ann_outputs = {}\n",
    "\n",
    "x_data = []\n",
    "for m in range(len(scale) - 1):\n",
    "    if m == 0:\n",
    "        x_on_m = [inputs for u in range(scale[1])]\n",
    "        x_data.append(x_on_m)\n",
    "    else:\n",
    "        x_on_m = [[output_from_unit(x_data[m - 1][0], [m, u]) for u in range(scale[m])] for upper_u in range(scale[m + 1])]\n",
    "        x_data.append(x_on_m)\n",
    "\n",
    "ann_outputs['x_data'] = x_data"
   ]
  },
  {
   "cell_type": "code",
   "execution_count": 53,
   "metadata": {
    "collapsed": false
   },
   "outputs": [],
   "source": [
    "outputs = [output_from_unit(x_data[-1][0], [m, u]) for u in range(scale[-1])]\n",
    "ann_outputs['outputs'] = outputs"
   ]
  },
  {
   "cell_type": "code",
   "execution_count": 55,
   "metadata": {
    "collapsed": false
   },
   "outputs": [],
   "source": [
    "def x(to_unit, from_unit):\n",
    "    \"\"\" [Int] * [Int] -> Real\n",
    "    \"\"\"\n",
    "    if to_unit[0] != from_unit[0] + 1:\n",
    "        return \"Error: there's no such net!\"\n",
    "    else:\n",
    "        return x_data[from_unit[0]][to_unit[1]][from_unit[1]]\n",
    "ann_outputs['x'] = x"
   ]
  },
  {
   "cell_type": "code",
   "execution_count": 71,
   "metadata": {
    "collapsed": true
   },
   "outputs": [],
   "source": [
    "def o(unit):\n",
    "    \"\"\" [Int] -> Real\n",
    "    \"\"\"\n",
    "    if unit[0] == len(scale) - 1: # output unit\n",
    "        return outputs[unit[1]]\n",
    "    else:\n",
    "        return x([unit[0] + 1, 0], unit)"
   ]
  },
  {
   "cell_type": "code",
   "execution_count": 74,
   "metadata": {
    "collapsed": false
   },
   "outputs": [
    {
     "data": {
      "text/plain": [
       "[0.8876539065880921]"
      ]
     },
     "execution_count": 74,
     "metadata": {},
     "output_type": "execute_result"
    }
   ],
   "source": [
    "def forward_propagate(ann, inputs):\n",
    "    \"\"\" Ann * [Real] -> Ann_outputs\n",
    "    \n",
    "    where Ann_outputs = {'outputs': [Real], 'x_data': [[[Real]]], 'x': ([Int] * [Int] -> Real)}\n",
    "    and x_data has x_data[m][u][upstream_u], like w_data.\n",
    "    \"\"\"\n",
    "    ann_outputs = {}\n",
    "    # x_data\n",
    "    x_data = []\n",
    "    for m in range(len(scale) - 1):\n",
    "        if m == 0:\n",
    "            x_on_m = [inputs for u in range(scale[1])]\n",
    "            x_data.append(x_on_m)\n",
    "        else:\n",
    "            x_on_m = [[output_from_unit(x_data[m - 1][0], [m, u]) for u in range(scale[m])] for upper_u in range(scale[m + 1])]\n",
    "            x_data.append(x_on_m)\n",
    "    # x:\n",
    "    def x(to_unit, from_unit):\n",
    "        \"\"\" [Int] * [Int] -> Real\n",
    "        \"\"\"\n",
    "        if to_unit[0] != from_unit[0] + 1:\n",
    "            return \"Error: there's no such net!\"\n",
    "        else:\n",
    "            return x_data[from_unit[0]][to_unit[1]][from_unit[1]]\n",
    "    # outputs:\n",
    "    outputs = [output_from_unit(x_data[-1][0], [m, u]) for u in range(scale[-1])]\n",
    "    # o:\n",
    "    def o(unit):\n",
    "        \"\"\" [Int] -> Real\n",
    "        \"\"\"\n",
    "        if unit[0] == len(scale) - 1: # output unit\n",
    "            return outputs[unit[1]]\n",
    "        else:\n",
    "            return x([unit[0] + 1, 0], unit)\n",
    "    # ann_outputs:\n",
    "    ann_outputs['x_data'] = x_data\n",
    "    ann_outputs['x'] = x\n",
    "    ann_outputs['outputs'] = outputs\n",
    "    ann_outputs['o'] = o\n",
    "    return ann_outputs\n",
    "\n",
    "ao = forward_propagate(ann, inputs)\n",
    "ao['x']([2,0], [1, 1])\n",
    "ao['outputs']"
   ]
  },
  {
   "cell_type": "markdown",
   "metadata": {},
   "source": [
    "### Backward Propagate"
   ]
  },
  {
   "cell_type": "code",
   "execution_count": 79,
   "metadata": {
    "collapsed": false
   },
   "outputs": [],
   "source": [
    "delta_data = []\n",
    "t = [1]\n",
    "ann_outputs = forward_propagate(ann, inputs)\n",
    "o = ann_outputs['o']\n",
    "l = len(scale) - 1\n",
    "delta_output_l = [o([l, k]) * (1 - o([l, k])) * (t[k] - o([l, k])) for k in range(scale[-1])]\n",
    "delta_data.append(delta_output_l)"
   ]
  },
  {
   "cell_type": "code",
   "execution_count": 86,
   "metadata": {
    "collapsed": false
   },
   "outputs": [],
   "source": [
    "l = len(scale) - 2\n",
    "delta_hidden_l = [o([l, h]) * (1 - o([l, h])) * sum([w([l + 1, k], [l, h]) * delta_data[0][k] for k in range(scale[l + 1])]) for h in range(scale[l])]\n",
    "delta_data.insert(0, delta_hidden_l)"
   ]
  },
  {
   "cell_type": "code",
   "execution_count": 92,
   "metadata": {
    "collapsed": false
   },
   "outputs": [
    {
     "data": {
      "text/plain": [
       "-8.053247045219972e-05"
      ]
     },
     "execution_count": 92,
     "metadata": {},
     "output_type": "execute_result"
    }
   ],
   "source": [
    "def delta(unit):\n",
    "    if unit[0] == 0:\n",
    "        return \"Error: the input-layer has no delta!\"\n",
    "    else:\n",
    "        return delta_data[unit[0] - 1][unit[1]]\n",
    "\n",
    "delta([1,1])"
   ]
  },
  {
   "cell_type": "code",
   "execution_count": 95,
   "metadata": {
    "collapsed": false
   },
   "outputs": [
    {
     "data": {
      "text/plain": [
       "-3.0300519459073115e-07"
      ]
     },
     "execution_count": 95,
     "metadata": {},
     "output_type": "execute_result"
    }
   ],
   "source": [
    "learning_speed = 0.01\n",
    "\n",
    "def delta_w(to_unit, from_unit):\n",
    "    return learning_speed * delta(to_unit) * x(to_unit, from_unit)\n",
    "\n",
    "delta_w([1,0], [0,0])"
   ]
  },
  {
   "cell_type": "code",
   "execution_count": 98,
   "metadata": {
    "collapsed": false
   },
   "outputs": [],
   "source": [
    "reassign_w = ann['reassign_w']\n",
    "for m in range(len(scale) - 1):\n",
    "    for u in range(scale[m + 1]):\n",
    "        for upstream_u in range(scale[m]):\n",
    "            to_unit = [m + 1, u]\n",
    "            from_unit = [m, upstream_u]\n",
    "            reassign_w(to_unit, from_unit, w(to_unit, from_unit) + delta_w(to_unit, from_unit))"
   ]
  },
  {
   "cell_type": "code",
   "execution_count": 99,
   "metadata": {
    "collapsed": false
   },
   "outputs": [
    {
     "data": {
      "text/plain": [
       "[[[2.0999996969948054, -0.03845562607359196, 0.002381188453962013],\n",
       "  [-0.0005905911108305429, -0.04124807694410011, -0.03019140342420761]],\n",
       " [[-0.02704714591417531, -0.028769187759821922, -0.03119673530258952]]]"
      ]
     },
     "execution_count": 99,
     "metadata": {},
     "output_type": "execute_result"
    }
   ],
   "source": [
    "ann['w_data']"
   ]
  },
  {
   "cell_type": "code",
   "execution_count": null,
   "metadata": {
    "collapsed": true
   },
   "outputs": [],
   "source": [
    "def back_propgate(ann, target):\n",
    "    \"\"\" Ann * [Real] -> None\n",
    "    Not a function -- modifies the `ann` in outer frame.\n",
    "    \"\"\"\n",
    "    # delta_data:\n",
    "    delta_data = []\n",
    "    ann_outputs = forward_propagate(ann, inputs)\n",
    "    o = ann_outputs['o']\n",
    "    l = len(scale) - 1\n",
    "    delta_output_l = [o([l, k]) * (1 - o([l, k])) * (t[k] - o([l, k])) for k in range(scale[-1])]\n",
    "    delta_data.append(delta_output_l)\n",
    "    for l0 in range(2, len(scale)):\n",
    "        l = len(scale) - l0\n",
    "        delta_hidden_l = [o([l, h]) * (1 - o([l, h])) * sum([w([l + 1, k], [l, h]) * delta_data[0][k] for k in range(scale[l + 1])]) for h in range(scale[l])]\n",
    "        delta_data.insert(0, delta_hidden_l)\n",
    "    # delta:\n",
    "    def delta(unit):\n",
    "        if unit[0] == 0:\n",
    "            return \"Error: the input-layer has no delta!\"\n",
    "        else:\n",
    "            return delta_data[unit[0] - 1][unit[1]]\n",
    "    # delta_w:\n",
    "    def delta_w(to_unit, from_unit):\n",
    "        \"\"\" [Int] * [Int] -> Real\n",
    "        \"\"\"\n",
    "        return learning_speed * delta(to_unit) * x(to_unit, from_unit)\n",
    "    # update ann['w_data']:\n",
    "    reassign_w = ann['reassign_w']\n",
    "    for m in range(len(scale) - 1):\n",
    "        for u in range(scale[m + 1]):\n",
    "            for upstream_u in range(scale[m]):\n",
    "                to_unit = [m + 1, u]\n",
    "                from_unit = [m, upstream_u]\n",
    "                reassign_w(to_unit, from_unit, w(to_unit, from_unit) + delta_w(to_unit, from_unit))\n",
    "    return None"
   ]
  },
  {
   "cell_type": "code",
   "execution_count": 100,
   "metadata": {
    "collapsed": false
   },
   "outputs": [
    {
     "name": "stdout",
     "output_type": "stream",
     "text": [
      "2\n"
     ]
    }
   ],
   "source": [
    "for l0 in range(2, len(scale)):\n",
    "    print(l0)"
   ]
  }
 ],
 "metadata": {
  "kernelspec": {
   "display_name": "Python 3",
   "language": "python",
   "name": "python3"
  },
  "language_info": {
   "codemirror_mode": {
    "name": "ipython",
    "version": 3
   },
   "file_extension": ".py",
   "mimetype": "text/x-python",
   "name": "python",
   "nbconvert_exporter": "python",
   "pygments_lexer": "ipython3",
   "version": "3.6.0"
  }
 },
 "nbformat": 4,
 "nbformat_minor": 2
}
