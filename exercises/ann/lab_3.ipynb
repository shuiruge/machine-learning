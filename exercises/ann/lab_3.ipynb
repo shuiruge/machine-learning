{
 "cells": [
  {
   "cell_type": "code",
   "execution_count": 1,
   "metadata": {
    "collapsed": true
   },
   "outputs": [],
   "source": [
    "from copy import copy\n",
    "from random import uniform\n",
    "from math import exp"
   ]
  },
  {
   "cell_type": "code",
   "execution_count": 2,
   "metadata": {
    "collapsed": true
   },
   "outputs": [],
   "source": [
    "# `unit_function` are fixed to be sigmoid.\n",
    "#\n",
    "# Labeling:\n",
    "#   Each unit is labeled by Int * Int, where\n",
    "#   the first is for layer, and the second is\n",
    "#   for the unit on that layer.\n",
    "#\n",
    "# Abbreviation:\n",
    "#   l -> layer, u -> unit on the layer,\n",
    "#   m -> medium layer,\n",
    "#   x -> value on net, w -> weights on net\n",
    "#   t -> target"
   ]
  },
  {
   "cell_type": "code",
   "execution_count": 3,
   "metadata": {
    "collapsed": true
   },
   "outputs": [],
   "source": [
    "sigmoid = lambda x: 1 / (1 + exp(-x))\n",
    "scale = [2, 2, 1]\n",
    "ann = {}\n",
    "ann['scale'] = scale\n",
    "\n",
    "# generate initialized weights, as weights[m][u][upstream_u]:\n",
    "ann['w_data'] = []\n",
    "for m in range(len(scale) - 1):\n",
    "    weights_on_m = []\n",
    "    for u in range(scale[m + 1]): # l = m + 1\n",
    "        weights_to_u = [uniform(-0.05, 0.05) for upstream_u in range(scale[m] + 1)]\n",
    "        weights_on_m.append(weights_to_u)\n",
    "    ann['w_data'].append(weights_on_m)\n",
    "\n",
    "def w(to_unit, from_unit):\n",
    "    \"\"\" [Int] * [Int] -> Real\n",
    "    \n",
    "    E.g. for scale = [2, 1], the `w` can take\n",
    "    arguments: [0, 0] (the first layer and the\n",
    "    first unit on this layer), [0, 1], and\n",
    "    [0, 2], the last of which is for the threshold-\n",
    "    weight.\n",
    "    \"\"\"\n",
    "    if to_unit[0] != from_unit[0] + 1:\n",
    "        return \"Error: there's no such net!\"\n",
    "    else:\n",
    "        return ann['w_data'][from_unit[0]][to_unit[1]][from_unit[1]]\n",
    "ann['w'] = w\n",
    "\n",
    "def reassign_w(to_unit, from_unit, new_value):\n",
    "    \"\"\" [Int] * [Int] * Real -> None\n",
    "    Not a function -- modifies ann['w_data'] in outer frame.\n",
    "    \"\"\"\n",
    "    ann['w_data'][from_unit[0]][to_unit[1]][from_unit[1]] = new_value\n",
    "    return None\n",
    "ann['reassign_w'] = reassign_w"
   ]
  },
  {
   "cell_type": "code",
   "execution_count": 4,
   "metadata": {
    "collapsed": true
   },
   "outputs": [],
   "source": [
    "def output_from_unit(inputs, unit):\n",
    "    \"\"\" [Real] * [Int] -> Real\n",
    "    \"\"\"\n",
    "    x = copy(inputs)\n",
    "    x.insert(0, 1)\n",
    "    net = sum([x[i] * w(unit, [unit[0] - 1, i]) for i in range(len(x))])\n",
    "    return sigmoid(net)\n",
    "\n",
    "def forward_propagate(ann, inputs):\n",
    "    \"\"\" Ann * [Real] -> Ann_outputs\n",
    "    \n",
    "    where Ann_outputs = {'outputs': [Real], 'x_data': [[[Real]]], 'x': ([Int] * [Int] -> Real)}\n",
    "    and x_data has x_data[m][u][upstream_u], like w_data.\n",
    "    \"\"\"\n",
    "    ann_outputs = {}\n",
    "    # x_data\n",
    "    x_data = []\n",
    "    for m in range(len(scale) - 1):\n",
    "        if m == 0:\n",
    "            x_on_m = [inputs for u in range(scale[1])]\n",
    "            x_data.append(x_on_m)\n",
    "        else:\n",
    "            x_on_m = [[output_from_unit(x_data[m - 1][0], [m, u]) for u in range(scale[m])] for upper_u in range(scale[m + 1])]\n",
    "            x_data.append(x_on_m)\n",
    "    # x:\n",
    "    def x(to_unit, from_unit):\n",
    "        \"\"\" [Int] * [Int] -> Real\n",
    "        \"\"\"\n",
    "        if to_unit[0] != from_unit[0] + 1:\n",
    "            return \"Error: there's no such net!\"\n",
    "        else:\n",
    "            return x_data[from_unit[0]][to_unit[1]][from_unit[1]]\n",
    "    # outputs:\n",
    "    outputs = [output_from_unit(x_data[-1][0], [m, u]) for u in range(scale[-1])]\n",
    "    # o:\n",
    "    def o(unit):\n",
    "        \"\"\" [Int] -> Real\n",
    "        \"\"\"\n",
    "        if unit[0] == len(scale) - 1: # output unit\n",
    "            return outputs[unit[1]]\n",
    "        else:\n",
    "            return x([unit[0] + 1, 0], unit)\n",
    "    # ann_outputs:\n",
    "    ann_outputs['x_data'] = x_data\n",
    "    ann_outputs['x'] = x\n",
    "    ann_outputs['outputs'] = outputs\n",
    "    ann_outputs['o'] = o\n",
    "    return ann_outputs"
   ]
  },
  {
   "cell_type": "code",
   "execution_count": 15,
   "metadata": {
    "collapsed": false
   },
   "outputs": [],
   "source": [
    "learning_speed = 0.05\n",
    "momentum = 0\n",
    "\n",
    "def back_propgate(ann, target, pre_delta_w = lambda to_unit, from_unit: 0):\n",
    "    \"\"\" Ann * [Real] -> ([Int] * [Int] -> Real)\n",
    "    Not a function -- modifies the `ann` in outer frame.\n",
    "    \"\"\"\n",
    "    t = target\n",
    "    w = ann['w']\n",
    "    reassign_w = ann['reassign_w']\n",
    "    ann_outputs = forward_propagate(ann, inputs)\n",
    "    x = ann_outputs['x']\n",
    "    o = ann_outputs['o']\n",
    "    # delta_data:\n",
    "    delta_data = []\n",
    "    l = len(scale) - 1\n",
    "    delta_output_l = [o([l, k]) * (1 - o([l, k])) * (t[k] - o([l, k])) for k in range(scale[-1])]\n",
    "    delta_data.append(delta_output_l)\n",
    "    for l0 in range(2, len(scale)):\n",
    "        l = len(scale) - l0\n",
    "        delta_hidden_l = [o([l, h]) * (1 - o([l, h])) * sum([w([l + 1, k], [l, h]) * delta_data[0][k] for k in range(scale[l + 1])]) for h in range(scale[l])]\n",
    "        delta_data.insert(0, delta_hidden_l)\n",
    "    # delta:\n",
    "    def delta(unit):\n",
    "        if unit[0] == 0:\n",
    "            return \"Error: the input-layer has no delta!\"\n",
    "        else:\n",
    "            return delta_data[unit[0] - 1][unit[1]]\n",
    "    # delta_w:\n",
    "    def delta_w(to_unit, from_unit):\n",
    "        \"\"\" [Int] * [Int] -> Real\n",
    "        \"\"\"\n",
    "        return learning_speed * delta(to_unit) * x(to_unit, from_unit) + momentum * pre_delta_w(to_unit, from_unit)\n",
    "    # update ann['w_data']:\n",
    "    for m in range(len(scale) - 1):\n",
    "        for u in range(scale[m + 1]):\n",
    "            for upstream_u in range(scale[m]):\n",
    "                to_unit = [m + 1, u]\n",
    "                from_unit = [m, upstream_u]\n",
    "                reassign_w(to_unit, from_unit, w(to_unit, from_unit) + delta_w(to_unit, from_unit))\n",
    "    return delta_w"
   ]
  },
  {
   "cell_type": "code",
   "execution_count": 20,
   "metadata": {
    "collapsed": false
   },
   "outputs": [
    {
     "name": "stdout",
     "output_type": "stream",
     "text": [
      "[1.0]\n",
      "[1.0]\n",
      "[1.0]\n",
      "[1.0]\n",
      "[1.0]\n",
      "[1.0]\n",
      "[1.0]\n",
      "[1.0]\n",
      "[1.0]\n",
      "[1.0]\n"
     ]
    }
   ],
   "source": [
    "inputs = [1, -2]\n",
    "\n",
    "pre_delta_w = lambda to_unit, from_unit: 0\n",
    "for i in range(10):\n",
    "    delta_w = back_propgate(ann, [100], pre_delta_w)\n",
    "    pre_delta_w = delta_w\n",
    "    print(forward_propagate(ann, inputs)['outputs'])"
   ]
  }
 ],
 "metadata": {
  "kernelspec": {
   "display_name": "Python 3",
   "language": "python",
   "name": "python3"
  }
 },
 "nbformat": 4,
 "nbformat_minor": 2
}
