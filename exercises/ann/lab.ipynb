{
 "cells": [
  {
   "cell_type": "code",
   "execution_count": 105,
   "metadata": {
    "collapsed": true
   },
   "outputs": [],
   "source": [
    "from copy import copy\n",
    "from random import uniform\n",
    "from math import exp"
   ]
  },
  {
   "cell_type": "code",
   "execution_count": 107,
   "metadata": {
    "collapsed": true
   },
   "outputs": [],
   "source": [
    "def generate_table(func, rows, columns):\n",
    "    \"\"\" (Int * Int -> Real) * Int * Int -> [[Real]]\n",
    "    \"\"\"\n",
    "    return [[func(i,j) for j in range(columns)] for i in range(rows)]\n",
    "def random_weight(i, j):\n",
    "    \"\"\" Int * Int -> Real\n",
    "    \"\"\"\n",
    "    return uniform(-0.05, 0.05)"
   ]
  },
  {
   "cell_type": "code",
   "execution_count": 108,
   "metadata": {
    "collapsed": false
   },
   "outputs": [
    {
     "data": {
      "text/plain": [
       "[[-0.04645844858422835, -0.02036451811546619, -0.027940171639990564],\n",
       " [0.032172992822303195, -0.02638316225825742, -0.03323892759135694]]"
      ]
     },
     "execution_count": 108,
     "metadata": {},
     "output_type": "execute_result"
    }
   ],
   "source": [
    "w = generate_table(random_weight, 2, 3)\n",
    "w"
   ]
  },
  {
   "cell_type": "code",
   "execution_count": 109,
   "metadata": {
    "collapsed": true
   },
   "outputs": [],
   "source": [
    "scale = [3, 2, 2]"
   ]
  },
  {
   "cell_type": "code",
   "execution_count": 110,
   "metadata": {
    "collapsed": false
   },
   "outputs": [
    {
     "name": "stdout",
     "output_type": "stream",
     "text": [
      "[[-0.0008035476506728784, -0.03927806101713141, 0.02075181009818952, -0.022447755306467143], [0.006232984074222181, -0.01562698308087506, -0.012234018534533174, 0.03408603808816228]] [[-0.016468492291871327, 0.027769765568872354, 0.0203272159521755], [-0.015621658989372587, 0.03784564657308806, 0.04108523586756917]]\n"
     ]
    }
   ],
   "source": [
    "weights1 = generate_table(random_weight, scale[1], scale[0] + 1)\n",
    "weights2 = generate_table(random_weight, scale[2], scale[1] + 1)\n",
    "weights = [weights1, weights2]\n",
    "print(weights1, weights2)"
   ]
  },
  {
   "cell_type": "code",
   "execution_count": 111,
   "metadata": {
    "collapsed": true
   },
   "outputs": [],
   "source": [
    "def initialize_ann(scale):\n",
    "    ann = {}\n",
    "    ann['scale'] = scale\n",
    "    ann['weights'] = [generate_table(random_weight, scale[layer], scale[layer - 1] + 1) for layer in range(1, len(scale))]\n",
    "    return ann"
   ]
  },
  {
   "cell_type": "code",
   "execution_count": 140,
   "metadata": {
    "collapsed": false
   },
   "outputs": [
    {
     "data": {
      "text/plain": [
       "[[[-0.009684742701485671,\n",
       "   -0.014139625840989323,\n",
       "   0.01078854751913004,\n",
       "   -0.008746372961945158],\n",
       "  [0.03914139679056321,\n",
       "   -0.010877377028860734,\n",
       "   -0.03571026319587,\n",
       "   0.04635122197039006]],\n",
       " [[0.04997997381457851, 0.04419658987675354, 0.042031157886952594],\n",
       "  [0.016035985852120224, 0.041015730553760885, 0.020442912434241137]]]"
      ]
     },
     "execution_count": 140,
     "metadata": {},
     "output_type": "execute_result"
    }
   ],
   "source": [
    "ann = initialize_ann(scale)\n",
    "ann['weights']"
   ]
  },
  {
   "cell_type": "code",
   "execution_count": 114,
   "metadata": {
    "collapsed": false
   },
   "outputs": [],
   "source": [
    "inputs = [1, 2, 3]"
   ]
  },
  {
   "cell_type": "code",
   "execution_count": 115,
   "metadata": {
    "collapsed": false
   },
   "outputs": [],
   "source": [
    "def output_from_unit(inputs, weights_to_unit):\n",
    "    \"\"\" [Real] * [[Real]] * (Real -> Real) -> Real\n",
    "    \n",
    "    >>> len(inputs) + 1 == len(weights_on_unit)\n",
    "    \"\"\"\n",
    "    w = copy(weights_to_unit)\n",
    "    x = copy(inputs)\n",
    "    x.insert(0, 1)\n",
    "    net = sum([x[i] * w[i] for i in range(len(x))])\n",
    "    return unit_function(net)"
   ]
  },
  {
   "cell_type": "code",
   "execution_count": 116,
   "metadata": {
    "collapsed": false
   },
   "outputs": [
    {
     "data": {
      "text/plain": [
       "0.48352565189701063"
      ]
     },
     "execution_count": 116,
     "metadata": {},
     "output_type": "execute_result"
    }
   ],
   "source": [
    "output_from_unit(inputs, weights1[0])"
   ]
  },
  {
   "cell_type": "code",
   "execution_count": 117,
   "metadata": {
    "collapsed": false
   },
   "outputs": [],
   "source": [
    "def propagate(inputs, propagate_function):\n",
    "    \"\"\" [Real] * ([Real] -> [Real]) -> [Real]\n",
    "    \"\"\"\n",
    "    return propagate_function(inputs)"
   ]
  },
  {
   "cell_type": "code",
   "execution_count": 138,
   "metadata": {
    "collapsed": true
   },
   "outputs": [],
   "source": [
    "def forward_propagate(ann):\n",
    "    \"\"\" Ann -> ([Real] -> [[Real]])\n",
    "    \n",
    "    output all outputs on all layers.\n",
    "    \"\"\"\n",
    "    def outputs_on_layers(ann_inputs):\n",
    "        inputs_from_upstream = copy(ann_inputs)\n",
    "        result = []\n",
    "        for i in range(1, len(scale)):\n",
    "            propagate_function = lambda x: [output_from_unit(x, ann['weights'][i - 1][unit]) for unit in range(scale[i])]\n",
    "            outputs_on_layer = propagate(inputs_from_upstream, propagate_function)\n",
    "            result += [outputs_on_layer]\n",
    "            inputs_from_upstream = outputs_on_layer\n",
    "        return result\n",
    "    return outputs_on_layers"
   ]
  },
  {
   "cell_type": "code",
   "execution_count": 141,
   "metadata": {
    "collapsed": false
   },
   "outputs": [
    {
     "data": {
      "text/plain": [
       "[[0.49287888344637987, 0.5239559338735332],\n",
       " [0.5234293327413644, 0.5117385822583407]]"
      ]
     },
     "execution_count": 141,
     "metadata": {},
     "output_type": "execute_result"
    }
   ],
   "source": [
    "o = forward_propagate(ann)(inputs)\n",
    "o"
   ]
  },
  {
   "cell_type": "code",
   "execution_count": 133,
   "metadata": {
    "collapsed": false
   },
   "outputs": [
    {
     "data": {
      "text/plain": [
       "[0.7444144559846977, 0.9033938852576191]"
      ]
     },
     "execution_count": 133,
     "metadata": {},
     "output_type": "execute_result"
    }
   ],
   "source": [
    "errors = [uniform(-1, 1) for i in range(scale[-1])]\n",
    "errors_from_upstream = copy(errors)\n",
    "errors_from_upstream"
   ]
  },
  {
   "cell_type": "code",
   "execution_count": 142,
   "metadata": {
    "collapsed": false
   },
   "outputs": [
    {
     "data": {
      "text/plain": [
       "[0.18569497986461223, 0.2257239887742236]"
      ]
     },
     "execution_count": 142,
     "metadata": {},
     "output_type": "execute_result"
    }
   ],
   "source": [
    "outputs_on_layer = o[-1]\n",
    "a = lambda o, k, delta: o[k] * (1 - o[k]) * delta[k]\n",
    "errors_on_output_layer = [a(outputs_on_layer, unit, errors) for unit in range(scale[-1])]\n",
    "errors_on_output_layer"
   ]
  },
  {
   "cell_type": "code",
   "execution_count": 155,
   "metadata": {
    "collapsed": false
   },
   "outputs": [
    {
     "data": {
      "text/plain": [
       "[0.003224530030147867, 0.0043563066770165556]"
      ]
     },
     "execution_count": 155,
     "metadata": {},
     "output_type": "execute_result"
    }
   ],
   "source": [
    "outputs_on_layer = o[-2]\n",
    "b = lambda o, h, delta, w: o[h] * (1 - o[h]) * sum([w[k][h] * delta[k] for k in range(len(delta))])\n",
    "errors_on_hidden_layer = [b(outputs_on_layer, h, errors_on_output_layer, ann['weights'][-1]) for h in range(scale[-2])]\n",
    "errors_on_hidden_layer"
   ]
  },
  {
   "cell_type": "code",
   "execution_count": 168,
   "metadata": {
    "collapsed": true
   },
   "outputs": [],
   "source": [
    "def backward_propagate(ann, outputs):\n",
    "    \"\"\" Ann -> ([Real] -> [Real])\n",
    "    \"\"\"\n",
    "    def errors_on_layers(errors):\n",
    "        errors_from_upstream = copy(errors)\n",
    "        result = []\n",
    "        # for output layer:\n",
    "        f = lambda o, k, delta: o[k] * (1 - o[k]) * delta[k] # eq.(4.14)\n",
    "        propagate_function = lambda x: [f(outputs[-1], unit, x) for unit in range(scale[-1])]\n",
    "        errors_on_output_layer = propagate_function(errors)\n",
    "        result += [errors_on_output_layer]\n",
    "        # for hidden layers:\n",
    "        if len(scale) - 2 != 0: # exists hidden layer(s)\n",
    "            errors_from_upstream = errors_on_output_layer\n",
    "            for hidden_layer in range(len(scale) - 2):\n",
    "                f = lambda o, h, delta, w: o[h] * (1 - o[h]) * sum([w[k][h] * delta[k] for k in range(len(delta))]) # eq. (4.15)\n",
    "                propagate_function = lambda x: [f(outputs[-2 - hidden_layer], unit, x, ann['weights'][-1 - hidden_layer]) for unit in range(scale[-2 - hidden_layer])]\n",
    "                errors_on_hidden_layer = propagate_function(errors_from_upstream)\n",
    "                result.insert(0, errors_on_hidden_layer)\n",
    "                errors_from_upstream = errors_on_hidden_layer\n",
    "        return result\n",
    "    return errors_on_layers"
   ]
  },
  {
   "cell_type": "code",
   "execution_count": 169,
   "metadata": {
    "collapsed": false
   },
   "outputs": [
    {
     "data": {
      "text/plain": [
       "[[0.003224530030147867, 0.0043563066770165556],\n",
       " [0.18569497986461223, 0.2257239887742236]]"
      ]
     },
     "execution_count": 169,
     "metadata": {},
     "output_type": "execute_result"
    }
   ],
   "source": [
    "outputs = forward_propagate(ann)(inputs)\n",
    "backward_propagate(ann, outputs)(errors)"
   ]
  },
  {
   "cell_type": "code",
   "execution_count": 181,
   "metadata": {
    "collapsed": true
   },
   "outputs": [],
   "source": [
    "def copy_ann(ann):\n",
    "    \"\"\" Ann -> Ann\n",
    "    \"\"\"\n",
    "    result = {}\n",
    "    result['scale'] = ann['scale']\n",
    "    result['weights'] = copy(ann['weights'])\n",
    "    return result"
   ]
  },
  {
   "cell_type": "code",
   "execution_count": 188,
   "metadata": {
    "collapsed": true
   },
   "outputs": [],
   "source": [
    "def update_weights(ann, inputs, targets, learning_speed):\n",
    "    \"\"\" Ann * [Real] * [Real] -> Ann\n",
    "    \"\"\"\n",
    "    def generate_x(inputs, outputs):\n",
    "        # layer = 0\n",
    "        x = [[inputs[f] for f in range(scale[0])] for t in range(scale[1])]\n",
    "        # \n",
    "    result = copy_ann(ann)\n",
    "    outputs = forward_propagate(ann)(inputs)\n",
    "    errors = [targets[i] - outputs[-1][i] for i in range(len(targets))]\n",
    "    delta = backward_propagate(ann, outputs)(errors)\n",
    "    x = generate_x(inputs, outputs)\n",
    "    for l in range(len(scale) - 1):\n",
    "        for t in range(scale[l + 1]):\n",
    "            for f in range(scale[l]):\n",
    "                delta_w = learning_speed * delta[l] * x[l][t][f]\n",
    "                result['weights'][l][t][f] = ann['weights'][l][t][f] + delta_w  \n",
    "    return result"
   ]
  },
  {
   "cell_type": "code",
   "execution_count": 191,
   "metadata": {
    "collapsed": true
   },
   "outputs": [],
   "source": [
    "o = forward_propagate(ann)(inputs)\n",
    "errors = [targets[i] - outputs[-1][i] for i in range(len(targets))]\n",
    "delta = backward_propagate(ann, o)(errors)"
   ]
  },
  {
   "cell_type": "code",
   "execution_count": 193,
   "metadata": {
    "collapsed": false
   },
   "outputs": [
    {
     "data": {
      "text/plain": [
       "[[1, 2, 3], [0.49287888344637987, 0.5239559338735332]]"
      ]
     },
     "execution_count": 193,
     "metadata": {},
     "output_type": "execute_result"
    }
   ],
   "source": [
    "x= [inputs]\n",
    "for l in range(len(scale) - 1)\n",
    "x"
   ]
  },
  {
   "cell_type": "code",
   "execution_count": 189,
   "metadata": {
    "collapsed": false
   },
   "outputs": [
    {
     "data": {
      "text/plain": [
       "{'scale': [3, 2, 2],\n",
       " 'weights': [[[-0.009684742701485671,\n",
       "    -0.014139625840989323,\n",
       "    0.01078854751913004,\n",
       "    -0.008746372961945158],\n",
       "   [0.03914139679056321,\n",
       "    -0.010877377028860734,\n",
       "    -0.03571026319587,\n",
       "    0.04635122197039006]],\n",
       "  [[0.04997997381457851, 0.04419658987675354, 0.042031157886952594],\n",
       "   [0.016035985852120224, 0.041015730553760885, 0.020442912434241137]]]}"
      ]
     },
     "execution_count": 189,
     "metadata": {},
     "output_type": "execute_result"
    }
   ],
   "source": [
    "targets = errors\n",
    "learning_speed = 0.01\n",
    "update_weights(ann, inputs, targets, learning_speed)"
   ]
  }
 ],
 "metadata": {
  "kernelspec": {
   "display_name": "Python 3",
   "language": "python",
   "name": "python3"
  },
  "language_info": {
   "codemirror_mode": {
    "name": "ipython",
    "version": 3
   },
   "file_extension": ".py",
   "mimetype": "text/x-python",
   "name": "python",
   "nbconvert_exporter": "python",
   "pygments_lexer": "ipython3",
   "version": "3.6.0"
  }
 },
 "nbformat": 4,
 "nbformat_minor": 2
}
