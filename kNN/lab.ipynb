{
 "cells": [
  {
   "cell_type": "code",
   "execution_count": 1,
   "metadata": {
    "collapsed": true
   },
   "outputs": [],
   "source": [
    "# This is after reading ?, ch2?."
   ]
  },
  {
   "cell_type": "code",
   "execution_count": 2,
   "metadata": {
    "collapsed": false
   },
   "outputs": [],
   "source": [
    "# Instance = [Real]\n",
    "# Training_datum = [Instance, Target_set]\n",
    "# Training_data = [Training_datum]\n",
    "\n",
    "# Selectors:\n",
    "def instance(training_datum):\n",
    "    return training_datum[0]\n",
    "def target_concept(training_datum):\n",
    "    return training_datum[1]"
   ]
  },
  {
   "cell_type": "code",
   "execution_count": null,
   "metadata": {
    "collapsed": true
   },
   "outputs": [],
   "source": [
    "from math import sqrt, inf\n",
    "\n",
    "def distance(point_1, point_2):\n",
    "    dim = len(point_1)\n",
    "    return sqrt(sum([(point_1[i] - point_2[i]) ** 2 for i in range(dim)]))"
   ]
  },
  {
   "cell_type": "code",
   "execution_count": 3,
   "metadata": {
    "collapsed": false
   },
   "outputs": [
    {
     "data": {
      "text/plain": [
       "1.4142135623730951"
      ]
     },
     "execution_count": 3,
     "metadata": {},
     "output_type": "execute_result"
    }
   ],
   "source": [
    "distance([0,0], [1,1])"
   ]
  },
  {
   "cell_type": "code",
   "execution_count": 4,
   "metadata": {
    "collapsed": true
   },
   "outputs": [],
   "source": [
    "def sort_by_func(lst, func):\n",
    "    \"\"\" [a] * (a -> Real) -> [b]\n",
    "    where [a] is sorted to be [b] in order of func(a), descent by default.\n",
    "    \"\"\"\n",
    "    lst_reconstruct = [(func(item), item) for item in lst]\n",
    "    get_key = lambda item: item[0]\n",
    "    sorted_lst = sorted(lst_reconstruct, key = get_key, reverse=True)\n",
    "    result = [item[1] for item in sorted_lst]\n",
    "    return result"
   ]
  },
  {
   "cell_type": "code",
   "execution_count": 5,
   "metadata": {
    "collapsed": true
   },
   "outputs": [],
   "source": [
    "def kNN(k, training_data):\n",
    "    \"\"\" Int * Training_data -> ([Real] -> Boolean)\n",
    "        training_data -> (normalized_instance -> target_concept)\n",
    "    \"\"\"\n",
    "    def kNN_result(instance0):\n",
    "        distance_to_instance = lambda training_datum: distance(instance(training_datum), instance0)\n",
    "        sorted_training_data = sort_by_func(training_data, distance_to_instance) # descent by default.\n",
    "        nearest_training_data = sorted_training_data[-k:]\n",
    "        positive_votes = [_ for _ in nearest_training_data if target_concept(_) == True]\n",
    "        negative_votes = [_ for _ in nearest_training_data if target_concept(_) == False]\n",
    "        if len(positive_votes) >= len(negative_votes):\n",
    "            return True\n",
    "        else:\n",
    "            return False\n",
    "    return kNN_result"
   ]
  },
  {
   "cell_type": "code",
   "execution_count": 6,
   "metadata": {
    "collapsed": false
   },
   "outputs": [],
   "source": [
    "raw_example = [[[0,0], False],\n",
    "           [[0.2,0.1], False],\n",
    "           [[1,1], True],\n",
    "           [[1.1,2.2], True]]"
   ]
  },
  {
   "cell_type": "code",
   "execution_count": 7,
   "metadata": {
    "collapsed": false
   },
   "outputs": [
    {
     "data": {
      "text/plain": [
       "False"
      ]
     },
     "execution_count": 7,
     "metadata": {},
     "output_type": "execute_result"
    }
   ],
   "source": [
    "kNN(1,raw_example)([0,0])"
   ]
  },
  {
   "cell_type": "markdown",
   "metadata": {},
   "source": [
    "so far so good."
   ]
  },
  {
   "cell_type": "code",
   "execution_count": 8,
   "metadata": {
    "collapsed": true
   },
   "outputs": [],
   "source": [
    "def features_max(training_data):\n",
    "    \"\"\" Training_data -> [Real]\n",
    "        training_data -> [max of feature for features of training_data]\n",
    "    \"\"\"\n",
    "    dimension_of_instance_space = len(instance(training_data[0]))\n",
    "    result = [-inf for i in range(dimension_of_instance_space)]\n",
    "    for datum in training_data:\n",
    "        for i in range(dimension_of_instance_space):\n",
    "            if instance(datum)[i] > result[i]:\n",
    "                result[i] = instance(datum)[i]\n",
    "    return result\n",
    "\n",
    "def features_min(training_data):\n",
    "    \"\"\" Training_data -> [Real]\n",
    "        training_data -> [min of feature for features of training_data]\n",
    "    \"\"\"\n",
    "    dimension_of_instance_space = len(instance(training_data[0]))\n",
    "    result = [inf for i in range(dimension_of_instance_space)]\n",
    "    for datum in training_data:\n",
    "        for i in range(dimension_of_instance_space):\n",
    "            if instance(datum)[i] < result[i]:\n",
    "                result[i] = instance(datum)[i]\n",
    "    return result       "
   ]
  },
  {
   "cell_type": "code",
   "execution_count": 10,
   "metadata": {
    "collapsed": false
   },
   "outputs": [
    {
     "data": {
      "text/plain": [
       "{'max': [1.1, 2.2], 'min': [0, 0]}"
      ]
     },
     "execution_count": 10,
     "metadata": {},
     "output_type": "execute_result"
    }
   ],
   "source": [
    "features_boundaries = {'min': features_min(raw_example), 'max': features_max(raw_example)}\n",
    "features_boundaries"
   ]
  },
  {
   "cell_type": "code",
   "execution_count": 11,
   "metadata": {
    "collapsed": true
   },
   "outputs": [],
   "source": [
    "def normalize_raw_instance(raw_instance):\n",
    "    \"\"\" Instance -> Instance\n",
    "    \"\"\"\n",
    "    dimension_of_instance_space = len(raw_instance)\n",
    "    result = [0 for i in range(dimension_of_instance_space)]\n",
    "    for i in range(dimension_of_instance_space):\n",
    "        result[i] = (raw_instance[i] - features_boundaries['min'][i]) / (features_boundaries['max'][i] - features_boundaries['min'][i])\n",
    "    return result\n",
    "\n",
    "def normalize_raw_training_data(raw_training_data):\n",
    "    \"\"\" Training_data -> Training_data\n",
    "    \"\"\"\n",
    "    result = []\n",
    "    for raw_datum in raw_training_data:\n",
    "        result.append([normalize_raw_instance(instance(raw_datum)), target_concept(raw_datum)])\n",
    "    return result"
   ]
  },
  {
   "cell_type": "code",
   "execution_count": 15,
   "metadata": {
    "collapsed": false
   },
   "outputs": [
    {
     "data": {
      "text/plain": [
       "[0.9090909090909091, 1.0]"
      ]
     },
     "execution_count": 15,
     "metadata": {},
     "output_type": "execute_result"
    }
   ],
   "source": [
    "inst = [1, 2.2]\n",
    "normalize_raw_instance(inst)"
   ]
  },
  {
   "cell_type": "code",
   "execution_count": 16,
   "metadata": {
    "collapsed": false
   },
   "outputs": [
    {
     "data": {
      "text/plain": [
       "[[[0.0, 0.0], False],\n",
       " [[0.18181818181818182, 0.045454545454545456], False],\n",
       " [[0.9090909090909091, 0.45454545454545453], True],\n",
       " [[1.0, 1.0], True]]"
      ]
     },
     "execution_count": 16,
     "metadata": {},
     "output_type": "execute_result"
    }
   ],
   "source": [
    "normalized_example = normalize_raw_training_data(raw_example)\n",
    "\n",
    "normalized_example"
   ]
  },
  {
   "cell_type": "markdown",
   "metadata": {},
   "source": [
    "## Show It up"
   ]
  },
  {
   "cell_type": "code",
   "execution_count": 45,
   "metadata": {
    "collapsed": false
   },
   "outputs": [],
   "source": [
    "import matplotlib.pyplot as plt\n",
    "from numpy import array\n",
    "\n",
    "plot = lambda two_dim_points, para: plt.plot([_[0] for _ in two_dim_points], [_[1] for _ in two_dim_points], para)"
   ]
  },
  {
   "cell_type": "code",
   "execution_count": 48,
   "metadata": {
    "collapsed": false
   },
   "outputs": [
    {
     "data": {
      "text/plain": [
       "[[0.9090909090909091, 0.45454545454545453], [1.0, 1.0]]"
      ]
     },
     "execution_count": 48,
     "metadata": {},
     "output_type": "execute_result"
    }
   ],
   "source": [
    "positive_instances = [_[0] for _ in normalized_example if _[1] == True]\n",
    "negative_instances = [_[0] for _ in normalized_example if _[1] == False]\n",
    "positive_instances"
   ]
  },
  {
   "cell_type": "code",
   "execution_count": 49,
   "metadata": {
    "collapsed": false
   },
   "outputs": [
    {
     "data": {
      "image/png": "[encoded data removed]",
      "text/plain": [
       "<matplotlib.figure.Figure at 0x7f19d1e196d8>"
      ]
     },
     "metadata": {},
     "output_type": "display_data"
    }
   ],
   "source": [
    "plot(positive_instances, 'ro')\n",
    "plot(negative_instances, 'go')\n",
    "plt.show()"
   ]
  },
  {
   "cell_type": "markdown",
   "metadata": {},
   "source": [
    "## Play with Practical Data"
   ]
  },
  {
   "cell_type": "markdown",
   "metadata": {},
   "source": [
    "### Read and Treat Raw Data"
   ]
  },
  {
   "cell_type": "markdown",
   "metadata": {},
   "source": [
    "There are three elements in target set: `'didntLike'`, `'?'`, and `'?'`. However, for simplicity, we set `'didntLike'` to `False` and others to `True`."
   ]
  },
  {
   "cell_type": "code",
   "execution_count": 88,
   "metadata": {
    "collapsed": false
   },
   "outputs": [],
   "source": [
    "data_file = open('./datingTestSet.txt', 'r')\n",
    "\n",
    "raw_training_data = []\n",
    "for line in data_file:\n",
    "    raw = line.strip().split('\\t')\n",
    "    rearranged = [[eval(_) for _ in [raw[0], raw[1], raw[2]]], raw[3] != 'didntLike']\n",
    "    raw_training_data.append(rearranged)\n",
    "    \n",
    "data_file.close()"
   ]
  },
  {
   "cell_type": "code",
   "execution_count": 89,
   "metadata": {
    "collapsed": false
   },
   "outputs": [
    {
     "data": {
      "text/plain": [
       "[[40920, 8.326976, 0.953952], True]"
      ]
     },
     "execution_count": 89,
     "metadata": {},
     "output_type": "execute_result"
    }
   ],
   "source": [
    "raw_training_data[0]"
   ]
  },
  {
   "cell_type": "code",
   "execution_count": 80,
   "metadata": {
    "collapsed": false
   },
   "outputs": [],
   "source": [
    "# Normalizations:\n",
    "\n",
    "features_boundaries = {'min': features_min(raw_training_data), 'max': features_max(raw_training_data)}\n",
    "training_data = normalize_raw_training_data(raw_training_data)"
   ]
  },
  {
   "cell_type": "markdown",
   "metadata": {
    "collapsed": false
   },
   "source": [
    "### Visualizations"
   ]
  },
  {
   "cell_type": "code",
   "execution_count": 84,
   "metadata": {
    "collapsed": false
   },
   "outputs": [
    {
     "data": {
      "image/png": "[encoded data removed]",
      "text/plain": [
       "<matplotlib.figure.Figure at 0x7f19d1e4f9e8>"
      ]
     },
     "metadata": {},
     "output_type": "display_data"
    }
   ],
   "source": [
    "plot([[instance(_)[0], instance(_)[1]] for _ in training_data if target_concept(_) == True], 'ro')\n",
    "plot([[instance(_)[0], instance(_)[1]] for _ in training_data if target_concept(_) == False], 'bo')\n",
    "plt.xlabel('0')\n",
    "plt.ylabel('1')\n",
    "plt.show()"
   ]
  },
  {
   "cell_type": "code",
   "execution_count": 85,
   "metadata": {
    "collapsed": false
   },
   "outputs": [
    {
     "data": {
      "image/png": "[encoded data removed]",
      "text/plain": [
       "<matplotlib.figure.Figure at 0x7f19d207cc18>"
      ]
     },
     "metadata": {},
     "output_type": "display_data"
    }
   ],
   "source": [
    "plot([[instance(_)[1], instance(_)[2]] for _ in training_data if target_concept(_) == True], 'ro')\n",
    "plot([[instance(_)[1], instance(_)[2]] for _ in training_data if target_concept(_) == False], 'bo')\n",
    "plt.xlabel('1')\n",
    "plt.ylabel('2')\n",
    "plt.show()"
   ]
  },
  {
   "cell_type": "code",
   "execution_count": 86,
   "metadata": {
    "collapsed": false
   },
   "outputs": [
    {
     "data": {
      "image/png": "[encoded data removed]",
      "text/plain": [
       "<matplotlib.figure.Figure at 0x7f19d1e477f0>"
      ]
     },
     "metadata": {},
     "output_type": "display_data"
    }
   ],
   "source": [
    "plot([[instance(_)[2], instance(_)[0]] for _ in training_data if target_concept(_) == True], 'ro')\n",
    "plot([[instance(_)[2], instance(_)[0]] for _ in training_data if target_concept(_) == False], 'bo')\n",
    "plt.xlabel('2')\n",
    "plt.ylabel('0')\n",
    "plt.show()"
   ]
  },
  {
   "cell_type": "markdown",
   "metadata": {},
   "source": [
    "Very good!"
   ]
  },
  {
   "cell_type": "markdown",
   "metadata": {},
   "source": [
    "### Play with kNN"
   ]
  },
  {
   "cell_type": "code",
   "execution_count": 92,
   "metadata": {
    "collapsed": true
   },
   "outputs": [],
   "source": [
    "normalized_test_instance = [0.5, 0.2, 0.3]"
   ]
  },
  {
   "cell_type": "code",
   "execution_count": 90,
   "metadata": {
    "collapsed": false
   },
   "outputs": [
    {
     "data": {
      "text/plain": [
       "False"
      ]
     },
     "execution_count": 90,
     "metadata": {},
     "output_type": "execute_result"
    }
   ],
   "source": [
    "kNN(3, training_data)(normalized_test_instance)"
   ]
  },
  {
   "cell_type": "markdown",
   "metadata": {},
   "source": [
    "To check, we can"
   ]
  },
  {
   "cell_type": "code",
   "execution_count": 93,
   "metadata": {
    "collapsed": false,
    "scrolled": true
   },
   "outputs": [
    {
     "data": {
      "image/png": "[encoded data removed]",
      "text/plain": [
       "<matplotlib.figure.Figure at 0x7f19d1e77390>"
      ]
     },
     "metadata": {},
     "output_type": "display_data"
    }
   ],
   "source": [
    "plot([[instance(_)[0], instance(_)[1]] for _ in training_data if target_concept(_) == True], 'ro')\n",
    "plot([[instance(_)[0], instance(_)[1]] for _ in training_data if target_concept(_) == False], 'bo')\n",
    "plot([normalized_test_instance[: -1]], 'go')\n",
    "plt.xlabel('0')\n",
    "plt.ylabel('1')\n",
    "plt.show()"
   ]
  },
  {
   "cell_type": "markdown",
   "metadata": {},
   "source": [
    "`False` forsooth!"
   ]
  }
 ],
 "metadata": {
  "kernelspec": {
   "display_name": "Python 3",
   "language": "python",
   "name": "python3"
  }
 },
 "nbformat": 4,
 "nbformat_minor": 2
}
